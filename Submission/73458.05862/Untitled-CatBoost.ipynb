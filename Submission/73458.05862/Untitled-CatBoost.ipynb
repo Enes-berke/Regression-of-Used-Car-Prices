{
 "cells": [
  {
   "cell_type": "code",
   "execution_count": 26,
   "id": "8ea48b9c",
   "metadata": {},
   "outputs": [],
   "source": [
    "# Gerekli kütüphaneleri yükleyelim\n",
    "import pandas as pd\n",
    "from sklearn.model_selection import train_test_split\n",
    "from sklearn.ensemble import RandomForestRegressor\n",
    "from sklearn.metrics import mean_squared_error\n",
    "from sklearn.preprocessing import OneHotEncoder\n",
    "import numpy as np\n",
    "\n",
    "train_path = \"C:/Users/ASUS/Desktop/Regression of Used Car Prices/train.csv\"\n",
    "\n",
    "test_path = \"C:/Users/ASUS/Desktop/Regression of Used Car Prices/test.csv\"\n",
    "\n",
    "train_data = pd.read_csv(train_path)\n",
    "test_data = pd.read_csv(test_path)"
   ]
  },
  {
   "cell_type": "code",
   "execution_count": 27,
   "id": "199f6586",
   "metadata": {},
   "outputs": [
    {
     "name": "stdout",
     "output_type": "stream",
     "text": [
      "0:\tlearn: 79401.0355289\ttest: 74093.9229627\tbest: 74093.9229627 (0)\ttotal: 67.9ms\tremaining: 1m 7s\n",
      "100:\tlearn: 72439.8853700\ttest: 69110.6451805\tbest: 69110.6451805 (100)\ttotal: 3.52s\tremaining: 31.3s\n",
      "200:\tlearn: 70781.9495748\ttest: 69134.6881001\tbest: 69104.0710772 (125)\ttotal: 6.99s\tremaining: 27.8s\n",
      "Stopped by overfitting detector  (100 iterations wait)\n",
      "\n",
      "bestTest = 69104.07108\n",
      "bestIteration = 125\n",
      "\n",
      "Shrink model to first 126 iterations.\n",
      "Validation RMSE: 69104.07107724219\n"
     ]
    }
   ],
   "source": [
    "import pandas as pd\n",
    "import numpy as np\n",
    "from sklearn.model_selection import train_test_split\n",
    "from sklearn.preprocessing import OneHotEncoder\n",
    "from sklearn.metrics import mean_squared_error\n",
    "from catboost import CatBoostRegressor\n",
    "\n",
    "\n",
    "# Eksik verileri doldurma\n",
    "train_data['clean_title'].fillna('Unknown', inplace=True)\n",
    "test_data['clean_title'].fillna('Unknown', inplace=True)\n",
    "\n",
    "# Kategorik verileri one-hot encoding ile sayısal değerlere dönüştürme\n",
    "categorical_columns = ['brand', 'model', 'fuel_type', 'engine', 'transmission', 'ext_col', 'int_col', 'accident', 'clean_title']\n",
    "encoder = OneHotEncoder(handle_unknown='ignore', sparse_output=False)\n",
    "encoded_train_array = encoder.fit_transform(train_data[categorical_columns])\n",
    "encoded_test_array = encoder.transform(test_data[categorical_columns])\n",
    "\n",
    "# Encoder tarafından oluşturulan yeni sütun adlarını alalım\n",
    "encoded_columns = encoder.get_feature_names_out(categorical_columns)\n",
    "\n",
    "# Numpy array'lerini DataFrame'e çevirirken sütun adlarını ekleyelim\n",
    "encoded_train_data = pd.DataFrame(encoded_train_array, columns=encoded_columns, index=train_data.index)\n",
    "encoded_test_data = pd.DataFrame(encoded_test_array, columns=encoded_columns, index=test_data.index)\n",
    "\n",
    "# Orijinal veriyle birleştirme\n",
    "train_data = train_data.join(encoded_train_data).drop(columns=categorical_columns)\n",
    "test_data = test_data.join(encoded_test_data).drop(columns=categorical_columns)\n",
    "\n",
    "# Bağımlı ve bağımsız değişkenler\n",
    "X = train_data.drop(columns=['price', 'id'])\n",
    "y = train_data['price']\n",
    "\n",
    "# Veri setini eğitim ve doğrulama setlerine ayırma\n",
    "X_train, X_valid, y_train, y_valid = train_test_split(X, y, test_size=0.2, random_state=42)\n",
    "\n",
    "# CatBoost modelini tanımlama\n",
    "catboost_model = CatBoostRegressor(\n",
    "    iterations=1000,            # Model 1000 ağaçta eğitilecek\n",
    "    learning_rate=0.05,         # Her iterasyonda ağırlıklar 0.05 oranında güncellenecek\n",
    "    depth=8,                    # Karar ağaçları maksimum 8 derinlikte olacak\n",
    "    loss_function='RMSE',       # Kayıp fonksiyonu olarak RMSE kullanılacak\n",
    "    eval_metric='RMSE',         # Performans metriği olarak RMSE kullanılacak\n",
    "    random_state=42,            # Eğitim sürecinin tekrarlanabilir olması için rastgelelik tohumunu ayarlayacak\n",
    "    verbose=100,                # Her 100 iterasyonda modelin performansının çıktısını verecek\n",
    "    early_stopping_rounds=50    # Doğrulama setinde performans iyileşmediğinde 50 iterasyon sonra eğitim duracak\n",
    ")\n",
    "\n",
    "\n",
    "# Modeli eğitme\n",
    "catboost_model.fit(\n",
    "    X_train, y_train,\n",
    "    eval_set=(X_valid, y_valid),\n",
    "    early_stopping_rounds=100,  # Erken durdurma için\n",
    ")\n",
    "\n",
    "# Tahminleri yapma\n",
    "y_pred = catboost_model.predict(X_valid)\n",
    "\n",
    "# Performans değerlendirmesi (RMSE)\n",
    "rmse = np.sqrt(mean_squared_error(y_valid, y_pred))\n",
    "print(f\"Validation RMSE: {rmse}\")\n"
   ]
  },
  {
   "cell_type": "code",
   "execution_count": null,
   "id": "de3002f7",
   "metadata": {},
   "outputs": [],
   "source": []
  },
  {
   "cell_type": "code",
   "execution_count": 28,
   "id": "4d0d2090",
   "metadata": {},
   "outputs": [],
   "source": [
    "# 6. Batch'ler Halinde Test Setinde Tahminler\n",
    "batch_size = 1000\n",
    "all_predictions = pd.DataFrame()\n",
    "\n",
    "for i in range(0, len(test_data), batch_size):\n",
    "    batch = test_data[i:i+batch_size]\n",
    "    batch_predictions = catboost_model.predict(batch.drop(columns=['id']))\n",
    "    \n",
    "    batch_output = pd.DataFrame({'id': batch['id'], 'price': batch_predictions})\n",
    "    all_predictions = pd.concat([all_predictions, batch_output])\n",
    "\n",
    "# 7. Sonuçları CSV Dosyasına Kaydetme\n",
    "all_predictions.to_csv('predictions.csv', index=False)"
   ]
  },
  {
   "cell_type": "code",
   "execution_count": null,
   "id": "13fc7522",
   "metadata": {},
   "outputs": [],
   "source": []
  }
 ],
 "metadata": {
  "kernelspec": {
   "display_name": "Python 3 (ipykernel)",
   "language": "python",
   "name": "python3"
  },
  "language_info": {
   "codemirror_mode": {
    "name": "ipython",
    "version": 3
   },
   "file_extension": ".py",
   "mimetype": "text/x-python",
   "name": "python",
   "nbconvert_exporter": "python",
   "pygments_lexer": "ipython3",
   "version": "3.11.7"
  }
 },
 "nbformat": 4,
 "nbformat_minor": 5
}
